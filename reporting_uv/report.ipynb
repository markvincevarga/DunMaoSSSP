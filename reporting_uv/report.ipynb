{
 "cells": [
  {
   "cell_type": "code",
   "execution_count": null,
   "id": "f1640098-a5b7-4973-9628-df0141769540",
   "metadata": {
    "ExecuteTime": {
     "end_time": "2025-09-24T08:47:21.469188Z",
     "start_time": "2025-09-24T08:47:21.441190Z"
    }
   },
   "outputs": [],
   "source": [
    "import os\n",
    "import json\n",
    "from pathlib import Path\n",
    "\n",
    "benchmark_path = Path(\"../target/criterion\")\n",
    "maps_paths = list(map(lambda p: benchmark_path / Path(p), filter(lambda n: n != \"report\", os.listdir(benchmark_path))))\n",
    "os.listdir()\n",
    "\n",
    "methods = [\"fast_sssp_sequential\", \"dijkstra\", \"dijkstra_fibonacci\"]\n",
    "\n",
    "\n",
    "# {map_name: {method_name: {metric_name: value}}}\n",
    "def load_json(filename: Path) -> dict:\n",
    "    with open(filename) as f:\n",
    "        return json.load(f)\n",
    "\n",
    "\n",
    "data = {\n",
    "    m.name: {method: load_json(m / Path(method) / Path(\"new/estimates.json\")) for method in methods}\n",
    "    for m in maps_paths\n",
    "}\n",
    "data\n"
   ]
  },
  {
   "cell_type": "code",
   "execution_count": null,
   "id": "ff9625964706a0b3",
   "metadata": {
    "ExecuteTime": {
     "end_time": "2025-09-24T09:18:11.117485Z",
     "start_time": "2025-09-24T09:18:11.093610Z"
    }
   },
   "outputs": [],
   "source": [
    "from typing import Any\n",
    "\n",
    "pairs = [\n",
    "    (\"jan_mayen\", 50),\n",
    "    (\"gibraltar\", 50),\n",
    "    (\"monaco\", 50),\n",
    "    (\"san_marino\", 25),\n",
    "    (\"andorra\", 25),\n",
    "    (\"gotland\", 25),\n",
    "    (\"malta\", 25),\n",
    "    (\"reykjavik\", 25),\n",
    "    (\"budapest\", 25),\n",
    "    (\"luxembourg\", 25),\n",
    "    (\"haiti\", 10),\n",
    "    (\"iceland\", 10),\n",
    "    (\"stockholm\", 10),\n",
    "    (\"missisippi\", 10),\n",
    "    (\"peru\", 5),\n",
    "    (\"sweden\", 5),\n",
    "]\n",
    "\n",
    "\n",
    "def normalize_recursive(item: Any, pair_count: int) -> Any:\n",
    "    if isinstance(item, dict):\n",
    "        return {k: (normalize_recursive(v, pair_count) if k != \"confidence_level\" else v) for k, v in item.items()}\n",
    "    if isinstance(item, list):\n",
    "        return [normalize_recursive(i, pair_count) for i in item]\n",
    "    if isinstance(item, (float, int)):\n",
    "        return item / pair_count\n",
    "    return item\n",
    "\n",
    "\n",
    "normalized_data = {area: normalize_recursive(data[area + \".osm\"], pair_count) for area, pair_count in pairs}\n",
    "normalized_data\n"
   ]
  },
  {
   "cell_type": "code",
   "execution_count": null,
   "id": "9622e4ab5f2812a8",
   "metadata": {
    "ExecuteTime": {
     "end_time": "2025-09-24T09:21:09.032803Z",
     "start_time": "2025-09-24T09:21:09.027131Z"
    }
   },
   "outputs": [],
   "source": [
    "graph_data = {\n",
    "    \"jan_mayen\": {\"edges\": 29786, \"nodes\": 13230},\n",
    "    \"gibraltar\": {\"edges\": 100284, \"nodes\": 44639},\n",
    "    \"monaco\": {\"edges\": 72318, \"nodes\": 32492},\n",
    "    \"san_marino\": {\"edges\": 341976, \"nodes\": 154249},\n",
    "    \"andorra\": {\"edges\": 1043844, \"nodes\": 449273},\n",
    "    \"gotland\": {\"edges\": 1634818, \"nodes\": 725852},\n",
    "    \"malta\": {\"edges\": 1818642, \"nodes\": 734962},\n",
    "    \"reykjavik\": {\"edges\": 2241396, \"nodes\": 1051160},\n",
    "    \"budapest\": {\"edges\": 5187404, \"nodes\": 2443154},\n",
    "    \"luxembourg\": {\"edges\": 10664130, \"nodes\": 3916210},\n",
    "    \"haiti\": {\"edges\": 17186498, \"nodes\": 8497106},\n",
    "    \"iceland\": {\"edges\": 21055604, \"nodes\": 10350896},\n",
    "    \"stockholm\": {\"edges\": 16459816, \"nodes\": 7307104},\n",
    "    \"missisippi\": {\"edges\": 21372374, \"nodes\": 10464418},\n",
    "    \"peru\": {\"edges\": 76084784, \"nodes\": 37194932},\n",
    "    \"sweden\": {\"edges\": 220005662, \"nodes\": 98808100},\n",
    "}\n",
    "normalized_data_with_graph = {\n",
    "    area: {\"methods\": normalized_data[area], \"graph\": graph_data[area]} for area, v in normalized_data.items()\n",
    "}\n",
    "normalized_data_with_graph[\"jan_mayen\"][\"graph\"]\n"
   ]
  },
  {
   "cell_type": "code",
   "execution_count": null,
   "id": "3129501d",
   "metadata": {},
   "outputs": [],
   "source": [
    "# Optional: restrict the amount of data\n",
    "\n",
    "normalized_data_with_graph = {k:v for k,v in normalized_data_with_graph.items() if v[\"graph\"][\"nodes\"] <= 1_000_000}\n",
    "filtered_methods = [m for m in methods if m != \"dijkstra_fibonacci\"]\n",
    "filtered_methods = methods"
   ]
  },
  {
   "cell_type": "code",
   "execution_count": null,
   "id": "4f720d7f67e525e4",
   "metadata": {
    "ExecuteTime": {
     "end_time": "2025-09-24T09:31:27.829570Z",
     "start_time": "2025-09-24T09:31:27.826040Z"
    }
   },
   "outputs": [],
   "source": [
    "import matplotlib.pyplot as plt\n",
    "import numpy as np"
   ]
  },
  {
   "cell_type": "code",
   "execution_count": null,
   "id": "5d2e08d11b1b0671",
   "metadata": {
    "ExecuteTime": {
     "end_time": "2025-09-24T09:49:56.715681Z",
     "start_time": "2025-09-24T09:49:56.540379Z"
    }
   },
   "outputs": [],
   "source": [
    "plt.figure(figsize=(9, 6))\n",
    "colors = {\"dijkstra\": \"C0\", \"dijkstra_fibonacci\": \"C1\", \"fast_sssp_sequential\": \"C2\"}\n",
    "\n",
    "for method in filtered_methods:\n",
    "    x = [normalized_data_with_graph[a][\"graph\"][\"nodes\"] for a in normalized_data_with_graph]\n",
    "    y = [normalized_data_with_graph[a][\"methods\"][method][\"mean\"][\"point_estimate\"] for a in normalized_data_with_graph]\n",
    "    nlogn = x*np.log(x)\n",
    "    trendline = np.polyfit(nlogn, y, 1)\n",
    "    p = np.poly1d(trendline)\n",
    "    plt.plot(x, p(nlogn), label=f\"{method} trendline\", c=colors.get(method, None))\n",
    "    plt.scatter(x, y, label=method, s=30, alpha=0.8, c=colors.get(method, None))\n",
    "\n",
    "plt.xlabel(\"Number of nodes\")\n",
    "plt.ylabel(\"Mean time (s)\")\n",
    "plt.title(\"Mean point_estimate vs Number of nodes by method\")\n",
    "plt.legend(title=\"Method\")\n",
    "# plt.xscale(\"log\")\n",
    "# Add a trendline\n",
    "plt.tight_layout()\n",
    "plt.show()"
   ]
  },
  {
   "cell_type": "code",
   "execution_count": null,
   "id": "5b1e7263",
   "metadata": {},
   "outputs": [],
   "source": [
    "plt.figure(figsize=(15, 10))\n",
    "\n",
    "# Sort the data by graph size (nodes)\n",
    "sorted_areas = sorted(normalized_data_with_graph.keys(), \n",
    "                      key=lambda x: normalized_data_with_graph[x]['graph']['nodes'])\n",
    "\n",
    "# Set up the positions for the bars\n",
    "x = np.arange(len(sorted_areas))\n",
    "width = 0.25  # Width of each bar\n",
    "\n",
    "# Plot bars for each method\n",
    "for i, method in enumerate(methods):\n",
    "    if method in filtered_methods:  # Only plot the methods we filtered earlier\n",
    "        means = [normalized_data_with_graph[area]['methods'][method]['mean']['point_estimate'] \n",
    "                 for area in sorted_areas]\n",
    "        plt.bar(x + (i - 0.5) * width, means, width, label=method, color=colors.get(method))\n",
    "\n",
    "# Customize the plot\n",
    "plt.xlabel('Map', fontsize=12)\n",
    "plt.ylabel('Mean Runtime (s)', fontsize=12)\n",
    "plt.title('Mean Runtime Comparison Across Different Maps', fontsize=14)\n",
    "plt.xticks(x, sorted_areas, rotation=45, ha='right')\n",
    "plt.legend(title=\"Method\")\n",
    "plt.grid(axis='y', linestyle='--', alpha=0.7)\n",
    "\n",
    "# Add a logarithmic scale for better visibility of smaller values\n",
    "# plt.yscale('log')\n",
    "\n",
    "# Format node counts to a human readable format\n",
    "def format_node_count(count):\n",
    "    if count >= 1_000_000:\n",
    "        return f\"{count/1_000_000:.1f}M\"\n",
    "    elif count >= 1_000:\n",
    "        return f\"{count/1_000:.1f}K\"\n",
    "    return str(count)\n",
    "\n",
    "# Add node count as text below the x-axis labels\n",
    "node_counts = [format_node_count(normalized_data_with_graph[area]['graph']['nodes']) \n",
    "               for area in sorted_areas]\n",
    "plt.gca().set_xticklabels([f\"{area}\\n({count} nodes)\" for area, count in zip(sorted_areas, node_counts)])\n",
    "\n",
    "plt.tight_layout()\n",
    "plt.show()"
   ]
  }
 ],
 "metadata": {
  "kernelspec": {
   "display_name": "reporting-uv",
   "language": "python",
   "name": "python3"
  },
  "language_info": {
   "codemirror_mode": {
    "name": "ipython",
    "version": 3
   },
   "file_extension": ".py",
   "mimetype": "text/x-python",
   "name": "python",
   "nbconvert_exporter": "python",
   "pygments_lexer": "ipython3",
   "version": "3.8.20"
  }
 },
 "nbformat": 4,
 "nbformat_minor": 5
}
