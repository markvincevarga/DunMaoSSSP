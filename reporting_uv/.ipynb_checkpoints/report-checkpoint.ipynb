{
 "cells": [
  {
   "cell_type": "code",
   "execution_count": null,
   "id": "f1640098-a5b7-4973-9628-df0141769540",
   "metadata": {},
   "outputs": [
    {
     "data": {
      "text/plain": [
       "{'group_id': 'monaco.osm',\n",
       " 'function_id': 'dijkstra',\n",
       " 'value_str': None,\n",
       " 'throughput': None,\n",
       " 'full_id': 'monaco.osm/dijkstra',\n",
       " 'directory_name': 'monaco.osm/dijkstra',\n",
       " 'title': 'monaco.osm/dijkstra'}"
      ]
     },
     "execution_count": 22,
     "metadata": {},
     "output_type": "execute_result"
    }
   ],
   "source": [
    "import os\n",
    "import json\n",
    "from pathlib import Path\n",
    "\n",
    "benchmark_path = Path(\"../target/criterion\")\n",
    "maps = list(map(lambda p: Path(p),filter(lambda n: n != \"report\", os.listdir(benchmark_path))))\n",
    "os.listdir()\n",
    "\n",
    "bench_file = benchmark_path / maps[0] / Path(\"dijkstra/new/benchmark.json\")\n",
    "with open(bench_file) as f:\n",
    "    bench = json.load(f)\n",
    "\n",
    "bench"
   ]
  }
 ],
 "metadata": {
  "kernelspec": {
   "display_name": "Python 3 (ipykernel)",
   "language": "python",
   "name": "python3"
  },
  "language_info": {
   "codemirror_mode": {
    "name": "ipython",
    "version": 3
   },
   "file_extension": ".py",
   "mimetype": "text/x-python",
   "name": "python",
   "nbconvert_exporter": "python",
   "pygments_lexer": "ipython3",
   "version": "3.8.20"
  }
 },
 "nbformat": 4,
 "nbformat_minor": 5
}
